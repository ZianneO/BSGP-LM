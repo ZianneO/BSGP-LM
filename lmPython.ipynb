{
 "cells": [
  {
   "cell_type": "markdown",
   "id": "3b1b29fb-40fd-406d-bd43-1347c64a87bd",
   "metadata": {},
   "source": [
    "# Linear Modeling in Python"
   ]
  },
  {
   "cell_type": "code",
   "execution_count": null,
   "id": "e7987402-3075-4c6c-a7f5-8458d2dd8164",
   "metadata": {},
   "outputs": [],
   "source": []
  }
 ],
 "metadata": {
  "kernelspec": {
   "display_name": "Python 3 (ipykernel)",
   "language": "python",
   "name": "python3"
  },
  "language_info": {
   "codemirror_mode": {
    "name": "ipython",
    "version": 3
   },
   "file_extension": ".py",
   "mimetype": "text/x-python",
   "name": "python",
   "nbconvert_exporter": "python",
   "pygments_lexer": "ipython3",
   "version": "3.9.18"
  }
 },
 "nbformat": 4,
 "nbformat_minor": 5
}
