{
 "cells": [
  {
   "cell_type": "markdown",
   "id": "60cf2541-56a8-47c3-8f40-c70a5453e8e1",
   "metadata": {},
   "source": [
    "# Linear Modeling in R"
   ]
  },
  {
   "cell_type": "markdown",
   "id": "94f41a42-b59c-473f-9b6e-e4ba1726b7d9",
   "metadata": {},
   "source": [
    "### Reading in the csv file"
   ]
  },
  {
   "cell_type": "code",
   "execution_count": 16,
   "id": "4c67ba82-83b3-4517-8c6d-3b05f579fab2",
   "metadata": {},
   "outputs": [],
   "source": [
    "df <- read.csv(\"regrex1.csv\")"
   ]
  },
  {
   "cell_type": "code",
   "execution_count": 17,
   "id": "8ecf5383-dbe6-4950-bf01-8ee70fd21f31",
   "metadata": {},
   "outputs": [
    {
     "data": {
      "text/html": [
       "TRUE"
      ],
      "text/latex": [
       "TRUE"
      ],
      "text/markdown": [
       "TRUE"
      ],
      "text/plain": [
       "[1] TRUE"
      ]
     },
     "metadata": {},
     "output_type": "display_data"
    }
   ],
   "source": [
    "is.data.frame(df)"
   ]
  },
  {
   "cell_type": "code",
   "execution_count": 18,
   "id": "00bccf94-a671-4c92-bacc-48c093c20ca6",
   "metadata": {},
   "outputs": [
    {
     "name": "stdout",
     "output_type": "stream",
     "text": [
      "'data.frame':\t30 obs. of  2 variables:\n",
      " $ y: num  6.81 9.84 4.98 5 3.5 ...\n",
      " $ x: num  9.85 11.14 5.12 8.11 3.56 ...\n"
     ]
    }
   ],
   "source": [
    "str(df)"
   ]
  },
  {
   "cell_type": "markdown",
   "id": "798932c3-447e-49f3-affa-a55430f10903",
   "metadata": {},
   "source": [
    "# Scatter Plot of data"
   ]
  },
  {
   "cell_type": "code",
   "execution_count": 20,
   "id": "216d1894-873e-4816-b426-c43d10ba9d0f",
   "metadata": {},
   "outputs": [
    {
     "data": {
      "image/png": "[encoded data removed]",
      "text/plain": [
       "plot without title"
      ]
     },
     "metadata": {
      "image/png": {
       "height": 420,
       "width": 420
      }
     },
     "output_type": "display_data"
    }
   ],
   "source": [
    "plot(df$x, df$y)"
   ]
  },
  {
   "cell_type": "markdown",
   "id": "1c27af55-de79-429a-bd60-7471bdda47a6",
   "metadata": {},
   "source": [
    "# Linear Model"
   ]
  },
  {
   "cell_type": "code",
   "execution_count": 22,
   "id": "cebc19ed-7443-4474-ae73-381fafbc5b22",
   "metadata": {},
   "outputs": [],
   "source": [
    "LMR <- lm(df$x ~ df$y, data = df)"
   ]
  },
  {
   "cell_type": "markdown",
   "id": "dce5f183-cbd3-449f-9950-531e9069c8e4",
   "metadata": {},
   "source": [
    "# Summary of Linear Model"
   ]
  },
  {
   "cell_type": "code",
   "execution_count": 23,
   "id": "22e6422a-a34f-4380-bbd6-6e0bb493e567",
   "metadata": {},
   "outputs": [
    {
     "data": {
      "text/plain": [
       "\n",
       "Call:\n",
       "lm(formula = df$x ~ df$y, data = df)\n",
       "\n",
       "Residuals:\n",
       "    Min      1Q  Median      3Q     Max \n",
       "-4.6154 -1.2274  0.2351  1.1253  3.6774 \n",
       "\n",
       "Coefficients:\n",
       "            Estimate Std. Error t value Pr(>|t|)    \n",
       "(Intercept)  -3.7432     0.7914   -4.73  5.8e-05 ***\n",
       "df$y          1.9813     0.1032   19.19  < 2e-16 ***\n",
       "---\n",
       "Signif. codes:  0 ‘***’ 0.001 ‘**’ 0.01 ‘*’ 0.05 ‘.’ 0.1 ‘ ’ 1\n",
       "\n",
       "Residual standard error: 1.804 on 28 degrees of freedom\n",
       "Multiple R-squared:  0.9294,\tAdjusted R-squared:  0.9268 \n",
       "F-statistic: 368.4 on 1 and 28 DF,  p-value: < 2.2e-16\n"
      ]
     },
     "metadata": {},
     "output_type": "display_data"
    }
   ],
   "source": [
    "summary(LMR)"
   ]
  },
  {
   "cell_type": "code",
   "execution_count": null,
   "id": "c1b9c92d-592e-403f-b3de-efa799a056c5",
   "metadata": {},
   "outputs": [],
   "source": []
  }
 ],
 "metadata": {
  "kernelspec": {
   "display_name": "R",
   "language": "R",
   "name": "ir"
  },
  "language_info": {
   "codemirror_mode": "r",
   "file_extension": ".r",
   "mimetype": "text/x-r-source",
   "name": "R",
   "pygments_lexer": "r",
   "version": "4.0.5"
  }
 },
 "nbformat": 4,
 "nbformat_minor": 5
}
