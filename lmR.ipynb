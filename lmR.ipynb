{
 "cells": [
  {
   "cell_type": "markdown",
   "id": "60cf2541-56a8-47c3-8f40-c70a5453e8e1",
   "metadata": {},
   "source": [
    "# Linear Modeling in R"
   ]
  },
  {
   "cell_type": "markdown",
   "id": "94f41a42-b59c-473f-9b6e-e4ba1726b7d9",
   "metadata": {},
   "source": [
    "### Reading in the csv file"
   ]
  },
  {
   "cell_type": "code",
   "execution_count": 14,
   "id": "4c67ba82-83b3-4517-8c6d-3b05f579fab2",
   "metadata": {},
   "outputs": [],
   "source": [
    "df = read.csv(\"regrex1.csv\")"
   ]
  },
  {
   "cell_type": "code",
   "execution_count": 15,
   "id": "8ecf5383-dbe6-4950-bf01-8ee70fd21f31",
   "metadata": {},
   "outputs": [
    {
     "data": {
      "text/html": [
       "TRUE"
      ],
      "text/latex": [
       "TRUE"
      ],
      "text/markdown": [
       "TRUE"
      ],
      "text/plain": [
       "[1] TRUE"
      ]
     },
     "metadata": {},
     "output_type": "display_data"
    }
   ],
   "source": [
    "is.data.frame(df)"
   ]
  },
  {
   "cell_type": "code",
   "execution_count": 16,
   "id": "00bccf94-a671-4c92-bacc-48c093c20ca6",
   "metadata": {},
   "outputs": [
    {
     "name": "stdout",
     "output_type": "stream",
     "text": [
      "'data.frame':\t30 obs. of  2 variables:\n",
      " $ y: num  6.81 9.84 4.98 5 3.5 ...\n",
      " $ x: num  9.85 11.14 5.12 8.11 3.56 ...\n"
     ]
    }
   ],
   "source": [
    "str(df)"
   ]
  },
  {
   "cell_type": "markdown",
   "id": "798932c3-447e-49f3-affa-a55430f10903",
   "metadata": {},
   "source": [
    "# Scatter Plot of data"
   ]
  },
  {
   "cell_type": "code",
   "execution_count": 17,
   "id": "216d1894-873e-4816-b426-c43d10ba9d0f",
   "metadata": {},
   "outputs": [
    {
     "data": {
      "image/png": "[encoded data removed]",
      "text/plain": [
       "plot without title"
      ]
     },
     "metadata": {
      "image/png": {
       "height": 420,
       "width": 420
      }
     },
     "output_type": "display_data"
    }
   ],
   "source": [
    "plot(df$x, df$y)"
   ]
  },
  {
   "cell_type": "markdown",
   "id": "1c27af55-de79-429a-bd60-7471bdda47a6",
   "metadata": {},
   "source": [
    "# Linear Model"
   ]
  },
  {
   "cell_type": "code",
   "execution_count": 18,
   "id": "e8aae615-cf91-4785-a6d1-4c518f2fb1b5",
   "metadata": {},
   "outputs": [
    {
     "data": {
      "text/plain": [
       "\n",
       "Call:\n",
       "lm(formula = y ~ x, data = df)\n",
       "\n",
       "Coefficients:\n",
       "(Intercept)            x  \n",
       "     2.2481       0.4691  \n"
      ]
     },
     "metadata": {},
     "output_type": "display_data"
    }
   ],
   "source": [
    "lm(y~x, data = df)"
   ]
  },
  {
   "cell_type": "code",
   "execution_count": 19,
   "id": "cebc19ed-7443-4474-ae73-381fafbc5b22",
   "metadata": {},
   "outputs": [],
   "source": [
    "LMR <- lm(y~x, data = df)"
   ]
  },
  {
   "cell_type": "markdown",
   "id": "dce5f183-cbd3-449f-9950-531e9069c8e4",
   "metadata": {},
   "source": [
    "# Summary of Linear Model"
   ]
  },
  {
   "cell_type": "code",
   "execution_count": 20,
   "id": "98049466-739e-4ede-8b67-24a306f5fe79",
   "metadata": {},
   "outputs": [
    {
     "data": {
      "text/plain": [
       "\n",
       "Call:\n",
       "lm(formula = y ~ x, data = df)\n",
       "\n",
       "Residuals:\n",
       "     Min       1Q   Median       3Q      Max \n",
       "-1.66121 -0.53286 -0.02869  0.50436  2.36786 \n",
       "\n",
       "Coefficients:\n",
       "            Estimate Std. Error t value Pr(>|t|)    \n",
       "(Intercept)  2.24814    0.29365   7.656 2.44e-08 ***\n",
       "x            0.46906    0.02444  19.194  < 2e-16 ***\n",
       "---\n",
       "Signif. codes:  0 ‘***’ 0.001 ‘**’ 0.01 ‘*’ 0.05 ‘.’ 0.1 ‘ ’ 1\n",
       "\n",
       "Residual standard error: 0.8779 on 28 degrees of freedom\n",
       "Multiple R-squared:  0.9294,\tAdjusted R-squared:  0.9268 \n",
       "F-statistic: 368.4 on 1 and 28 DF,  p-value: < 2.2e-16\n"
      ]
     },
     "metadata": {},
     "output_type": "display_data"
    }
   ],
   "source": [
    "summary(LMR)"
   ]
  },
  {
   "cell_type": "code",
   "execution_count": 21,
   "id": "22e6422a-a34f-4380-bbd6-6e0bb493e567",
   "metadata": {},
   "outputs": [],
   "source": [
    "summary_stats = summary(LMR)"
   ]
  },
  {
   "cell_type": "markdown",
   "id": "1d7bdeb9-6d67-4743-a95c-891c545a267a",
   "metadata": {},
   "source": [
    "# Obtaining Coefficients"
   ]
  },
  {
   "cell_type": "code",
   "execution_count": 22,
   "id": "53c55bd4-556a-4411-8e14-f8ebb0231984",
   "metadata": {},
   "outputs": [
    {
     "data": {
      "text/html": [
       "0.929364155128174"
      ],
      "text/latex": [
       "0.929364155128174"
      ],
      "text/markdown": [
       "0.929364155128174"
      ],
      "text/plain": [
       "[1] 0.9293642"
      ]
     },
     "metadata": {},
     "output_type": "display_data"
    }
   ],
   "source": [
    "summary_stats$r.squared"
   ]
  },
  {
   "cell_type": "code",
   "execution_count": 23,
   "id": "4d857bae-4d66-414f-83eb-6024297ac0e8",
   "metadata": {},
   "outputs": [
    {
     "data": {
      "text/html": [
       "<style>\n",
       ".dl-inline {width: auto; margin:0; padding: 0}\n",
       ".dl-inline>dt, .dl-inline>dd {float: none; width: auto; display: inline-block}\n",
       ".dl-inline>dt::after {content: \":\\0020\"; padding-right: .5ex}\n",
       ".dl-inline>dt:not(:first-of-type) {padding-left: .5ex}\n",
       "</style><dl class=dl-inline><dt>(Intercept)</dt><dd>2.248142773667</dd><dt>x</dt><dd>0.469062282751859</dd></dl>\n"
      ],
      "text/latex": [
       "\\begin{description*}\n",
       "\\item[(Intercept)] 2.248142773667\n",
       "\\item[x] 0.469062282751859\n",
       "\\end{description*}\n"
      ],
      "text/markdown": [
       "(Intercept)\n",
       ":   2.248142773667x\n",
       ":   0.469062282751859\n",
       "\n"
      ],
      "text/plain": [
       "(Intercept)           x \n",
       "  2.2481428   0.4690623 "
      ]
     },
     "metadata": {},
     "output_type": "display_data"
    }
   ],
   "source": [
    "coef(LMR)"
   ]
  },
  {
   "cell_type": "code",
   "execution_count": 24,
   "id": "59e798a7-bdef-4150-b797-ab2e8d36a559",
   "metadata": {},
   "outputs": [
    {
     "data": {
      "text/html": [
       "<strong>(Intercept):</strong> 2.248142773667"
      ],
      "text/latex": [
       "\\textbf{(Intercept):} 2.248142773667"
      ],
      "text/markdown": [
       "**(Intercept):** 2.248142773667"
      ],
      "text/plain": [
       "(Intercept) \n",
       "   2.248143 "
      ]
     },
     "metadata": {},
     "output_type": "display_data"
    }
   ],
   "source": [
    "coef(LMR)[1]"
   ]
  },
  {
   "cell_type": "code",
   "execution_count": 25,
   "id": "9c2d760c-b4bb-4449-b1ae-0c5edc16c22b",
   "metadata": {},
   "outputs": [
    {
     "data": {
      "text/html": [
       "<strong>x:</strong> 0.469062282751859"
      ],
      "text/latex": [
       "\\textbf{x:} 0.469062282751859"
      ],
      "text/markdown": [
       "**x:** 0.469062282751859"
      ],
      "text/plain": [
       "        x \n",
       "0.4690623 "
      ]
     },
     "metadata": {},
     "output_type": "display_data"
    }
   ],
   "source": [
    "coef(LMR)[2]"
   ]
  },
  {
   "cell_type": "code",
   "execution_count": 26,
   "id": "2e029575-2cd7-4f17-bc6e-71cd79ac5b41",
   "metadata": {},
   "outputs": [],
   "source": [
    "y_predict = predict(LMR, df)"
   ]
  },
  {
   "cell_type": "markdown",
   "id": "71c3ea51-5c97-4700-b7e2-f76439e899e6",
   "metadata": {},
   "source": [
    "# Linear Regression of Scatter Plot"
   ]
  },
  {
   "cell_type": "code",
   "execution_count": 31,
   "id": "c92fcccb-3333-4e61-beda-912594d5458e",
   "metadata": {},
   "outputs": [
    {
     "data": {
      "image/png": "[encoded data removed]",
      "text/plain": [
       "plot without title"
      ]
     },
     "metadata": {
      "image/png": {
       "height": 420,
       "width": 420
      }
     },
     "output_type": "display_data"
    }
   ],
   "source": [
    "plot(df$x, y_predict)\n"
   ]
  },
  {
   "cell_type": "markdown",
   "id": "a7bef862-0aaa-4833-87a3-ec41f35b7f0b",
   "metadata": {},
   "source": [
    "# Linear Regression line addition"
   ]
  },
  {
   "cell_type": "code",
   "execution_count": 28,
   "id": "23b846a2-96b6-45d5-a226-e541943fede4",
   "metadata": {},
   "outputs": [
    {
     "data": {
      "image/png": "[encoded data removed]",
      "text/plain": [
       "plot without title"
      ]
     },
     "metadata": {
      "image/png": {
       "height": 420,
       "width": 420
      }
     },
     "output_type": "display_data"
    }
   ],
   "source": [
    "plot(df$x, df$y)\n",
    "lines(df$x, y_predict)"
   ]
  },
  {
   "cell_type": "markdown",
   "id": "bd8ea1d2-b292-4456-9fa6-328beb19729f",
   "metadata": {},
   "source": [
    "# Title Addition"
   ]
  },
  {
   "cell_type": "code",
   "execution_count": 36,
   "id": "4ac942f0-0e59-4f68-a3ab-fa57ebebdc68",
   "metadata": {},
   "outputs": [
    {
     "data": {
      "image/png": "[encoded data removed]",
      "text/plain": [
       "Plot with title “Scatter plot with Linear Regression Line”"
      ]
     },
     "metadata": {
      "image/png": {
       "height": 420,
       "width": 420
      }
     },
     "output_type": "display_data"
    }
   ],
   "source": [
    "plot(df$x, df$y,\n",
    "     main = \"Scatter plot with Linear Regression Line\")\n",
    "lines(df$x, y_predict)"
   ]
  },
  {
   "cell_type": "markdown",
   "id": "282fdf8c-415c-4c37-9c52-1847ad76e0e6",
   "metadata": {},
   "source": [
    "# Axis label addition"
   ]
  },
  {
   "cell_type": "code",
   "execution_count": null,
   "id": "1da8b504-0d44-4741-933b-0960ecb0bf3c",
   "metadata": {},
   "outputs": [],
   "source": []
  }
 ],
 "metadata": {
  "kernelspec": {
   "display_name": "R",
   "language": "R",
   "name": "ir"
  },
  "language_info": {
   "codemirror_mode": "r",
   "file_extension": ".r",
   "mimetype": "text/x-r-source",
   "name": "R",
   "pygments_lexer": "r",
   "version": "4.0.5"
  }
 },
 "nbformat": 4,
 "nbformat_minor": 5
}
