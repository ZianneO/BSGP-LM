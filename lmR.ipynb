{
 "cells": [
  {
   "cell_type": "markdown",
   "id": "60cf2541-56a8-47c3-8f40-c70a5453e8e1",
   "metadata": {},
   "source": [
    "# Linear Modeling in R"
   ]
  },
  {
   "cell_type": "code",
   "execution_count": null,
   "id": "126fdeae-7452-4c8b-aba0-e71923fdf6e2",
   "metadata": {},
   "outputs": [],
   "source": []
  }
 ],
 "metadata": {
  "kernelspec": {
   "display_name": "R",
   "language": "R",
   "name": "ir"
  },
  "language_info": {
   "codemirror_mode": "r",
   "file_extension": ".r",
   "mimetype": "text/x-r-source",
   "name": "R",
   "pygments_lexer": "r",
   "version": "4.0.5"
  }
 },
 "nbformat": 4,
 "nbformat_minor": 5
}
