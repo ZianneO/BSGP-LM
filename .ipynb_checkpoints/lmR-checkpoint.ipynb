{
 "cells": [
  {
   "cell_type": "markdown",
   "id": "60cf2541-56a8-47c3-8f40-c70a5453e8e1",
   "metadata": {},
   "source": [
    "# Linear Modeling in R"
   ]
  },
  {
   "cell_type": "code",
   "execution_count": 1,
   "id": "126fdeae-7452-4c8b-aba0-e71923fdf6e2",
   "metadata": {},
   "outputs": [],
   "source": [
    "df = read.csv(\"regrex1.csv\")"
   ]
  },
  {
   "cell_type": "code",
   "execution_count": 2,
   "id": "1b13e663-8ba5-498a-8a3a-54c83b199a87",
   "metadata": {},
   "outputs": [
    {
     "data": {
      "text/html": [
       "<table class=\"dataframe\">\n",
       "<caption>A data.frame: 30 × 2</caption>\n",
       "<thead>\n",
       "\t<tr><th scope=col>y</th><th scope=col>x</th></tr>\n",
       "\t<tr><th scope=col>&lt;dbl&gt;</th><th scope=col>&lt;dbl&gt;</th></tr>\n",
       "</thead>\n",
       "<tbody>\n",
       "\t<tr><td> 6.8102</td><td> 9.8492</td></tr>\n",
       "\t<tr><td> 9.8437</td><td>11.1450</td></tr>\n",
       "\t<tr><td> 4.9767</td><td> 5.1209</td></tr>\n",
       "\t<tr><td> 5.0006</td><td> 8.1085</td></tr>\n",
       "\t<tr><td> 3.5047</td><td> 3.5599</td></tr>\n",
       "\t<tr><td> 3.6419</td><td> 1.9883</td></tr>\n",
       "\t<tr><td> 7.8725</td><td>15.5322</td></tr>\n",
       "\t<tr><td> 5.1442</td><td> 7.5202</td></tr>\n",
       "\t<tr><td> 8.3883</td><td>14.0202</td></tr>\n",
       "\t<tr><td> 6.8204</td><td> 7.5226</td></tr>\n",
       "\t<tr><td> 9.0185</td><td>14.3272</td></tr>\n",
       "\t<tr><td> 2.6148</td><td> 3.8950</td></tr>\n",
       "\t<tr><td> 3.7367</td><td> 1.8707</td></tr>\n",
       "\t<tr><td> 2.8651</td><td> 0.8347</td></tr>\n",
       "\t<tr><td>10.7469</td><td>18.3413</td></tr>\n",
       "\t<tr><td> 2.3710</td><td> 1.6645</td></tr>\n",
       "\t<tr><td> 9.6653</td><td>17.0579</td></tr>\n",
       "\t<tr><td> 7.1926</td><td> 9.2375</td></tr>\n",
       "\t<tr><td>11.7833</td><td>21.0000</td></tr>\n",
       "\t<tr><td> 3.9537</td><td> 3.5286</td></tr>\n",
       "\t<tr><td>15.0000</td><td>25.0000</td></tr>\n",
       "\t<tr><td> 7.9152</td><td> 9.9008</td></tr>\n",
       "\t<tr><td> 9.3368</td><td>17.5990</td></tr>\n",
       "\t<tr><td> 8.7587</td><td>13.8790</td></tr>\n",
       "\t<tr><td> 6.7813</td><td>10.8690</td></tr>\n",
       "\t<tr><td> 7.9924</td><td>12.6238</td></tr>\n",
       "\t<tr><td> 2.2806</td><td> 0.9719</td></tr>\n",
       "\t<tr><td>10.4050</td><td>14.4814</td></tr>\n",
       "\t<tr><td> 3.7891</td><td> 2.1792</td></tr>\n",
       "\t<tr><td>10.9067</td><td>18.4052</td></tr>\n",
       "</tbody>\n",
       "</table>\n"
      ],
      "text/latex": [
       "A data.frame: 30 × 2\n",
       "\\begin{tabular}{ll}\n",
       " y & x\\\\\n",
       " <dbl> & <dbl>\\\\\n",
       "\\hline\n",
       "\t  6.8102 &  9.8492\\\\\n",
       "\t  9.8437 & 11.1450\\\\\n",
       "\t  4.9767 &  5.1209\\\\\n",
       "\t  5.0006 &  8.1085\\\\\n",
       "\t  3.5047 &  3.5599\\\\\n",
       "\t  3.6419 &  1.9883\\\\\n",
       "\t  7.8725 & 15.5322\\\\\n",
       "\t  5.1442 &  7.5202\\\\\n",
       "\t  8.3883 & 14.0202\\\\\n",
       "\t  6.8204 &  7.5226\\\\\n",
       "\t  9.0185 & 14.3272\\\\\n",
       "\t  2.6148 &  3.8950\\\\\n",
       "\t  3.7367 &  1.8707\\\\\n",
       "\t  2.8651 &  0.8347\\\\\n",
       "\t 10.7469 & 18.3413\\\\\n",
       "\t  2.3710 &  1.6645\\\\\n",
       "\t  9.6653 & 17.0579\\\\\n",
       "\t  7.1926 &  9.2375\\\\\n",
       "\t 11.7833 & 21.0000\\\\\n",
       "\t  3.9537 &  3.5286\\\\\n",
       "\t 15.0000 & 25.0000\\\\\n",
       "\t  7.9152 &  9.9008\\\\\n",
       "\t  9.3368 & 17.5990\\\\\n",
       "\t  8.7587 & 13.8790\\\\\n",
       "\t  6.7813 & 10.8690\\\\\n",
       "\t  7.9924 & 12.6238\\\\\n",
       "\t  2.2806 &  0.9719\\\\\n",
       "\t 10.4050 & 14.4814\\\\\n",
       "\t  3.7891 &  2.1792\\\\\n",
       "\t 10.9067 & 18.4052\\\\\n",
       "\\end{tabular}\n"
      ],
      "text/markdown": [
       "\n",
       "A data.frame: 30 × 2\n",
       "\n",
       "| y &lt;dbl&gt; | x &lt;dbl&gt; |\n",
       "|---|---|\n",
       "|  6.8102 |  9.8492 |\n",
       "|  9.8437 | 11.1450 |\n",
       "|  4.9767 |  5.1209 |\n",
       "|  5.0006 |  8.1085 |\n",
       "|  3.5047 |  3.5599 |\n",
       "|  3.6419 |  1.9883 |\n",
       "|  7.8725 | 15.5322 |\n",
       "|  5.1442 |  7.5202 |\n",
       "|  8.3883 | 14.0202 |\n",
       "|  6.8204 |  7.5226 |\n",
       "|  9.0185 | 14.3272 |\n",
       "|  2.6148 |  3.8950 |\n",
       "|  3.7367 |  1.8707 |\n",
       "|  2.8651 |  0.8347 |\n",
       "| 10.7469 | 18.3413 |\n",
       "|  2.3710 |  1.6645 |\n",
       "|  9.6653 | 17.0579 |\n",
       "|  7.1926 |  9.2375 |\n",
       "| 11.7833 | 21.0000 |\n",
       "|  3.9537 |  3.5286 |\n",
       "| 15.0000 | 25.0000 |\n",
       "|  7.9152 |  9.9008 |\n",
       "|  9.3368 | 17.5990 |\n",
       "|  8.7587 | 13.8790 |\n",
       "|  6.7813 | 10.8690 |\n",
       "|  7.9924 | 12.6238 |\n",
       "|  2.2806 |  0.9719 |\n",
       "| 10.4050 | 14.4814 |\n",
       "|  3.7891 |  2.1792 |\n",
       "| 10.9067 | 18.4052 |\n",
       "\n"
      ],
      "text/plain": [
       "   y       x      \n",
       "1   6.8102  9.8492\n",
       "2   9.8437 11.1450\n",
       "3   4.9767  5.1209\n",
       "4   5.0006  8.1085\n",
       "5   3.5047  3.5599\n",
       "6   3.6419  1.9883\n",
       "7   7.8725 15.5322\n",
       "8   5.1442  7.5202\n",
       "9   8.3883 14.0202\n",
       "10  6.8204  7.5226\n",
       "11  9.0185 14.3272\n",
       "12  2.6148  3.8950\n",
       "13  3.7367  1.8707\n",
       "14  2.8651  0.8347\n",
       "15 10.7469 18.3413\n",
       "16  2.3710  1.6645\n",
       "17  9.6653 17.0579\n",
       "18  7.1926  9.2375\n",
       "19 11.7833 21.0000\n",
       "20  3.9537  3.5286\n",
       "21 15.0000 25.0000\n",
       "22  7.9152  9.9008\n",
       "23  9.3368 17.5990\n",
       "24  8.7587 13.8790\n",
       "25  6.7813 10.8690\n",
       "26  7.9924 12.6238\n",
       "27  2.2806  0.9719\n",
       "28 10.4050 14.4814\n",
       "29  3.7891  2.1792\n",
       "30 10.9067 18.4052"
      ]
     },
     "metadata": {},
     "output_type": "display_data"
    }
   ],
   "source": [
    "df"
   ]
  },
  {
   "cell_type": "code",
   "execution_count": 3,
   "id": "063d10ba-bae9-41f5-aa11-6c120c362095",
   "metadata": {},
   "outputs": [
    {
     "data": {
      "text/html": [
       "<table class=\"dataframe\">\n",
       "<caption>A data.frame: 6 × 2</caption>\n",
       "<thead>\n",
       "\t<tr><th></th><th scope=col>y</th><th scope=col>x</th></tr>\n",
       "\t<tr><th></th><th scope=col>&lt;dbl&gt;</th><th scope=col>&lt;dbl&gt;</th></tr>\n",
       "</thead>\n",
       "<tbody>\n",
       "\t<tr><th scope=row>1</th><td>6.8102</td><td> 9.8492</td></tr>\n",
       "\t<tr><th scope=row>2</th><td>9.8437</td><td>11.1450</td></tr>\n",
       "\t<tr><th scope=row>3</th><td>4.9767</td><td> 5.1209</td></tr>\n",
       "\t<tr><th scope=row>4</th><td>5.0006</td><td> 8.1085</td></tr>\n",
       "\t<tr><th scope=row>5</th><td>3.5047</td><td> 3.5599</td></tr>\n",
       "\t<tr><th scope=row>6</th><td>3.6419</td><td> 1.9883</td></tr>\n",
       "</tbody>\n",
       "</table>\n"
      ],
      "text/latex": [
       "A data.frame: 6 × 2\n",
       "\\begin{tabular}{r|ll}\n",
       "  & y & x\\\\\n",
       "  & <dbl> & <dbl>\\\\\n",
       "\\hline\n",
       "\t1 & 6.8102 &  9.8492\\\\\n",
       "\t2 & 9.8437 & 11.1450\\\\\n",
       "\t3 & 4.9767 &  5.1209\\\\\n",
       "\t4 & 5.0006 &  8.1085\\\\\n",
       "\t5 & 3.5047 &  3.5599\\\\\n",
       "\t6 & 3.6419 &  1.9883\\\\\n",
       "\\end{tabular}\n"
      ],
      "text/markdown": [
       "\n",
       "A data.frame: 6 × 2\n",
       "\n",
       "| <!--/--> | y &lt;dbl&gt; | x &lt;dbl&gt; |\n",
       "|---|---|---|\n",
       "| 1 | 6.8102 |  9.8492 |\n",
       "| 2 | 9.8437 | 11.1450 |\n",
       "| 3 | 4.9767 |  5.1209 |\n",
       "| 4 | 5.0006 |  8.1085 |\n",
       "| 5 | 3.5047 |  3.5599 |\n",
       "| 6 | 3.6419 |  1.9883 |\n",
       "\n"
      ],
      "text/plain": [
       "  y      x      \n",
       "1 6.8102  9.8492\n",
       "2 9.8437 11.1450\n",
       "3 4.9767  5.1209\n",
       "4 5.0006  8.1085\n",
       "5 3.5047  3.5599\n",
       "6 3.6419  1.9883"
      ]
     },
     "metadata": {},
     "output_type": "display_data"
    }
   ],
   "source": [
    "head(df)"
   ]
  },
  {
   "cell_type": "code",
   "execution_count": 4,
   "id": "f21352a8-ece0-4d02-b78f-9166804b47e8",
   "metadata": {},
   "outputs": [
    {
     "data": {
      "image/png": "[encoded data removed]",
      "text/plain": [
       "plot without title"
      ]
     },
     "metadata": {
      "image/png": {
       "height": 420,
       "width": 420
      }
     },
     "output_type": "display_data"
    }
   ],
   "source": [
    "plot(df$x,df$y)"
   ]
  },
  {
   "cell_type": "code",
   "execution_count": null,
   "id": "bf72c33a-c296-4769-b976-ed96059468ed",
   "metadata": {},
   "outputs": [],
   "source": []
  }
 ],
 "metadata": {
  "kernelspec": {
   "display_name": "R",
   "language": "R",
   "name": "ir"
  },
  "language_info": {
   "codemirror_mode": "r",
   "file_extension": ".r",
   "mimetype": "text/x-r-source",
   "name": "R",
   "pygments_lexer": "r",
   "version": "4.0.5"
  }
 },
 "nbformat": 4,
 "nbformat_minor": 5
}
